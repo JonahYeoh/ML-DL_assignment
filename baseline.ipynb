{
 "cells": [
  {
   "cell_type": "code",
   "execution_count": 1,
   "metadata": {},
   "outputs": [],
   "source": [
    "import tensorflow as tf\n",
    "from tensorflow import keras\n",
    "from tensorflow.keras.layers import Dense\n",
    "from sklearn import preprocessing\n",
    "from sklearn.model_selection import train_test_split\n",
    "\n",
    "import pandas as pd\n",
    "import numpy as np\n",
    "\n",
    "import matplotlib as plt"
   ]
  },
  {
   "cell_type": "code",
   "execution_count": 2,
   "metadata": {},
   "outputs": [],
   "source": [
    "physical_devices = tf.config.list_physical_devices('GPU') \n",
    "tf.config.experimental.set_memory_growth(physical_devices[0], True)"
   ]
  },
  {
   "cell_type": "code",
   "execution_count": 3,
   "metadata": {},
   "outputs": [],
   "source": [
    "df = pd.read_csv('fetal_health.csv')"
   ]
  },
  {
   "cell_type": "code",
   "execution_count": 4,
   "metadata": {},
   "outputs": [],
   "source": [
    "def data_preprocessing(dataframe, target_col):\n",
    "    df = dataframe.drop_duplicates()\n",
    "    features = dataframe.drop(target_col, axis=1)\n",
    "    label = dataframe[target_col]\n",
    "    label = pd.get_dummies(data=label, columns=[target_col])\n",
    "    columns = features.columns\n",
    "    for col in columns:\n",
    "        if type(features[col]) == str:\n",
    "            features = pd.get_dummies(data=features, columns=[col])\n",
    "        else:\n",
    "            col_mean = np.mean(features[col])\n",
    "            features[col] = features[col].fillna(col_mean)\n",
    "    scaler = preprocessing.MinMaxScaler(feature_range=(0,1))\n",
    "    scaled_features = scaler.fit_transform(features)\n",
    "    return scaled_features, label"
   ]
  },
  {
   "cell_type": "code",
   "execution_count": 24,
   "metadata": {},
   "outputs": [],
   "source": [
    "X, Y = data_preprocessing(df, 'fetal_health')"
   ]
  },
  {
   "cell_type": "code",
   "execution_count": 45,
   "metadata": {},
   "outputs": [],
   "source": [
    "X_train, X_test, Y_train, Y_test = train_test_split(X, Y, test_size=0.3)"
   ]
  },
  {
   "cell_type": "code",
   "execution_count": 49,
   "metadata": {},
   "outputs": [],
   "source": [
    "model = keras.Sequential()\n",
    "model.add(Dense(units=64, input_dim=X_train.shape[1], activation='tanh', kernel_initializer='zeros'))\n",
    "model.add(Dense(units=3, activation='softmax'))"
   ]
  },
  {
   "cell_type": "code",
   "execution_count": 50,
   "metadata": {},
   "outputs": [],
   "source": [
    "model.compile(loss='categorical_crossentropy', \\\n",
    "              optimizer='sgd', metrics=['accuracy'])"
   ]
  },
  {
   "cell_type": "code",
   "execution_count": 51,
   "metadata": {},
   "outputs": [
    {
     "name": "stdout",
     "output_type": "stream",
     "text": [
      "Train on 1488 samples\n",
      "Epoch 1/10\n",
      "1488/1488 - 2s - loss: 0.5578 - accuracy: 0.7836\n",
      "Epoch 2/10\n",
      "1488/1488 - 2s - loss: 0.3893 - accuracy: 0.8434\n",
      "Epoch 3/10\n",
      "1488/1488 - 2s - loss: 0.3388 - accuracy: 0.8703\n",
      "Epoch 4/10\n",
      "1488/1488 - 2s - loss: 0.3112 - accuracy: 0.8730\n",
      "Epoch 5/10\n",
      "1488/1488 - 2s - loss: 0.3017 - accuracy: 0.8723\n",
      "Epoch 6/10\n",
      "1488/1488 - 2s - loss: 0.2894 - accuracy: 0.8851\n",
      "Epoch 7/10\n",
      "1488/1488 - 2s - loss: 0.2829 - accuracy: 0.8884\n",
      "Epoch 8/10\n",
      "1488/1488 - 2s - loss: 0.2795 - accuracy: 0.8804\n",
      "Epoch 9/10\n",
      "1488/1488 - 2s - loss: 0.2699 - accuracy: 0.8777\n",
      "Epoch 10/10\n",
      "1488/1488 - 2s - loss: 0.2669 - accuracy: 0.8891\n"
     ]
    },
    {
     "data": {
      "text/plain": [
       "<tensorflow.python.keras.callbacks.History at 0x1ba6a92fa20>"
      ]
     },
     "execution_count": 51,
     "metadata": {},
     "output_type": "execute_result"
    }
   ],
   "source": [
    "model.fit(X_train, Y_train, epochs=10, batch_size=1, verbose=2)"
   ]
  },
  {
   "cell_type": "code",
   "execution_count": 52,
   "metadata": {},
   "outputs": [
    {
     "name": "stdout",
     "output_type": "stream",
     "text": [
      "638/638 [==============================] - 0s 164us/sample - loss: 0.3257 - accuracy: 0.8668\n",
      "[0.3256858137894574, 0.86677116]\n"
     ]
    }
   ],
   "source": [
    "score = model.evaluate(X_test, Y_test)\n",
    "print(score)"
   ]
  },
  {
   "cell_type": "code",
   "execution_count": null,
   "metadata": {},
   "outputs": [],
   "source": []
  }
 ],
 "metadata": {
  "kernelspec": {
   "display_name": "Python 3",
   "language": "python",
   "name": "python3"
  },
  "language_info": {
   "codemirror_mode": {
    "name": "ipython",
    "version": 3
   },
   "file_extension": ".py",
   "mimetype": "text/x-python",
   "name": "python",
   "nbconvert_exporter": "python",
   "pygments_lexer": "ipython3",
   "version": "3.6.12"
  }
 },
 "nbformat": 4,
 "nbformat_minor": 4
}
