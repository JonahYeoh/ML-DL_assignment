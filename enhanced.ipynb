{
 "cells": [
  {
   "cell_type": "code",
   "execution_count": 14,
   "metadata": {},
   "outputs": [],
   "source": [
    "import tensorflow as tf\n",
    "from tensorflow import keras\n",
    "from tensorflow.keras.layers import Dense, Dropout\n",
    "from sklearn import preprocessing\n",
    "from sklearn.model_selection import train_test_split\n",
    "\n",
    "import pandas as pd\n",
    "import numpy as np\n",
    "\n",
    "import matplotlib as plt"
   ]
  },
  {
   "cell_type": "code",
   "execution_count": 15,
   "metadata": {},
   "outputs": [],
   "source": [
    "physical_devices = tf.config.list_physical_devices('GPU') \n",
    "tf.config.experimental.set_memory_growth(physical_devices[0], True)"
   ]
  },
  {
   "cell_type": "code",
   "execution_count": 16,
   "metadata": {},
   "outputs": [],
   "source": [
    "df = pd.read_csv('fetal_health.csv')"
   ]
  },
  {
   "cell_type": "code",
   "execution_count": 17,
   "metadata": {},
   "outputs": [],
   "source": [
    "def data_preprocessing(dataframe, target_col):\n",
    "    df = dataframe.drop_duplicates()\n",
    "    features = dataframe.drop(target_col, axis=1)\n",
    "    label = dataframe[target_col]\n",
    "    label = pd.get_dummies(data=label, columns=[target_col])\n",
    "    columns = features.columns\n",
    "    for col in columns:\n",
    "        if type(features[col]) == str:\n",
    "            features = pd.get_dummies(data=features, columns=[col])\n",
    "        else:\n",
    "            col_mean = np.mean(features[col])\n",
    "            features[col] = features[col].fillna(col_mean)\n",
    "    scaler = preprocessing.MinMaxScaler(feature_range=(0,1))\n",
    "    scaled_features = scaler.fit_transform(features)\n",
    "    return scaled_features, label"
   ]
  },
  {
   "cell_type": "code",
   "execution_count": 111,
   "metadata": {},
   "outputs": [],
   "source": [
    "X, Y = data_preprocessing(df, 'fetal_health')"
   ]
  },
  {
   "cell_type": "code",
   "execution_count": 322,
   "metadata": {},
   "outputs": [
    {
     "name": "stdout",
     "output_type": "stream",
     "text": [
      "(298, 21)\n"
     ]
    }
   ],
   "source": [
    "X_train, X_test, Y_train, Y_test = train_test_split(X, Y, test_size=0.3, random_state=7)\n",
    "X_train, X_Dev, Y_train, Y_Dev = train_test_split(X_train, Y_train, test_size=0.2, random_state=7)\n",
    "print(X_Dev.shape)"
   ]
  },
  {
   "cell_type": "code",
   "execution_count": 363,
   "metadata": {},
   "outputs": [],
   "source": [
    "initializer = tf.keras.initializers.RandomUniform(minval=0., maxval=1.)"
   ]
  },
  {
   "cell_type": "code",
   "execution_count": 364,
   "metadata": {},
   "outputs": [],
   "source": [
    "const_weight = tf.keras.constraints.MinMaxNorm(min_value=0.0, max_value=1.0, rate=1.0, axis=0)"
   ]
  },
  {
   "cell_type": "code",
   "execution_count": 365,
   "metadata": {},
   "outputs": [],
   "source": [
    "model = keras.Sequential()\n",
    "model.add(Dense(units=128, input_dim=X_train.shape[1], activation='relu', activity_regularizer='l1', bias_constraint=const_weight))\n",
    "model.add(Dropout(0.5))\n",
    "model.add(Dense(units=512, activation='relu', activity_regularizer='l2', bias_initializer=initializer, bias_constraint=const_weight))\n",
    "model.add(Dropout(0.5))\n",
    "model.add(Dense(units=256, activation='relu', activity_regularizer='l2', bias_initializer=initializer, bias_constraint=const_weight))\n",
    "model.add(Dropout(0.5))\n",
    "model.add(Dense(units=64, activation='relu', activity_regularizer='l2', bias_initializer=initializer, bias_constraint=const_weight))\n",
    "model.add(Dense(units=3, activation='softmax', bias_constraint=const_weight))"
   ]
  },
  {
   "cell_type": "code",
   "execution_count": 366,
   "metadata": {},
   "outputs": [],
   "source": [
    "sgd = tf.keras.optimizers.SGD(learning_rate=0.1, momentum=0.5)\n",
    "adam = tf.keras.optimizers.Adam(learning_rate=0.001)\n",
    "model.compile(loss='categorical_crossentropy', \\\n",
    "              optimizer=adam, metrics=['accuracy'])"
   ]
  },
  {
   "cell_type": "code",
   "execution_count": 367,
   "metadata": {},
   "outputs": [
    {
     "name": "stdout",
     "output_type": "stream",
     "text": [
      "Model: \"sequential_56\"\n",
      "_________________________________________________________________\n",
      "Layer (type)                 Output Shape              Param #   \n",
      "=================================================================\n",
      "dense_225 (Dense)            (None, 128)               2816      \n",
      "_________________________________________________________________\n",
      "dropout_113 (Dropout)        (None, 128)               0         \n",
      "_________________________________________________________________\n",
      "dense_226 (Dense)            (None, 512)               66048     \n",
      "_________________________________________________________________\n",
      "dropout_114 (Dropout)        (None, 512)               0         \n",
      "_________________________________________________________________\n",
      "dense_227 (Dense)            (None, 256)               131328    \n",
      "_________________________________________________________________\n",
      "dropout_115 (Dropout)        (None, 256)               0         \n",
      "_________________________________________________________________\n",
      "dense_228 (Dense)            (None, 64)                16448     \n",
      "_________________________________________________________________\n",
      "dense_229 (Dense)            (None, 3)                 195       \n",
      "=================================================================\n",
      "Total params: 216,835\n",
      "Trainable params: 216,835\n",
      "Non-trainable params: 0\n",
      "_________________________________________________________________\n",
      "None\n"
     ]
    }
   ],
   "source": [
    "print(model.summary())"
   ]
  },
  {
   "cell_type": "code",
   "execution_count": 368,
   "metadata": {},
   "outputs": [],
   "source": [
    "early_stopping = tf.keras.callbacks.EarlyStopping(monitor='val_accuracy', patience=10, restore_best_weights=True)"
   ]
  },
  {
   "cell_type": "code",
   "execution_count": 369,
   "metadata": {},
   "outputs": [
    {
     "name": "stdout",
     "output_type": "stream",
     "text": [
      "Train on 1190 samples, validate on 298 samples\n",
      "Epoch 1/100\n",
      "1190/1190 - 1s - loss: 1.1490 - accuracy: 0.7496 - val_loss: 0.7069 - val_accuracy: 0.7919\n",
      "Epoch 2/100\n",
      "1190/1190 - 0s - loss: 0.6965 - accuracy: 0.7824 - val_loss: 0.5585 - val_accuracy: 0.7919\n",
      "Epoch 3/100\n",
      "1190/1190 - 0s - loss: 0.5862 - accuracy: 0.7815 - val_loss: 0.4753 - val_accuracy: 0.8121\n",
      "Epoch 4/100\n",
      "1190/1190 - 0s - loss: 0.5207 - accuracy: 0.8176 - val_loss: 0.4274 - val_accuracy: 0.8893\n",
      "Epoch 5/100\n",
      "1190/1190 - 0s - loss: 0.4803 - accuracy: 0.8471 - val_loss: 0.3974 - val_accuracy: 0.8792\n",
      "Epoch 6/100\n",
      "1190/1190 - 0s - loss: 0.4478 - accuracy: 0.8622 - val_loss: 0.3704 - val_accuracy: 0.8926\n",
      "Epoch 7/100\n",
      "1190/1190 - 0s - loss: 0.4221 - accuracy: 0.8731 - val_loss: 0.3376 - val_accuracy: 0.8993\n",
      "Epoch 8/100\n",
      "1190/1190 - 0s - loss: 0.4167 - accuracy: 0.8681 - val_loss: 0.3646 - val_accuracy: 0.8926\n",
      "Epoch 9/100\n",
      "1190/1190 - 0s - loss: 0.3967 - accuracy: 0.8756 - val_loss: 0.3297 - val_accuracy: 0.9161\n",
      "Epoch 10/100\n",
      "1190/1190 - 0s - loss: 0.3777 - accuracy: 0.8840 - val_loss: 0.3021 - val_accuracy: 0.9195\n",
      "Epoch 11/100\n",
      "1190/1190 - 0s - loss: 0.3644 - accuracy: 0.8874 - val_loss: 0.2952 - val_accuracy: 0.9060\n",
      "Epoch 12/100\n",
      "1190/1190 - 0s - loss: 0.3591 - accuracy: 0.8782 - val_loss: 0.2931 - val_accuracy: 0.9094\n",
      "Epoch 13/100\n",
      "1190/1190 - 0s - loss: 0.3330 - accuracy: 0.8924 - val_loss: 0.2962 - val_accuracy: 0.9060\n",
      "Epoch 14/100\n",
      "1190/1190 - 0s - loss: 0.3367 - accuracy: 0.8966 - val_loss: 0.2782 - val_accuracy: 0.9060\n",
      "Epoch 15/100\n",
      "1190/1190 - 0s - loss: 0.3152 - accuracy: 0.8975 - val_loss: 0.2681 - val_accuracy: 0.9195\n",
      "Epoch 16/100\n",
      "1190/1190 - 0s - loss: 0.3309 - accuracy: 0.8916 - val_loss: 0.2773 - val_accuracy: 0.9262\n",
      "Epoch 17/100\n",
      "1190/1190 - 0s - loss: 0.3250 - accuracy: 0.8891 - val_loss: 0.3018 - val_accuracy: 0.9094\n",
      "Epoch 18/100\n",
      "1190/1190 - 0s - loss: 0.3193 - accuracy: 0.8941 - val_loss: 0.2880 - val_accuracy: 0.8993\n",
      "Epoch 19/100\n",
      "1190/1190 - 0s - loss: 0.3171 - accuracy: 0.8874 - val_loss: 0.2717 - val_accuracy: 0.9161\n",
      "Epoch 20/100\n",
      "1190/1190 - 0s - loss: 0.2821 - accuracy: 0.9118 - val_loss: 0.2633 - val_accuracy: 0.9195\n",
      "Epoch 21/100\n",
      "1190/1190 - 0s - loss: 0.2864 - accuracy: 0.9059 - val_loss: 0.2622 - val_accuracy: 0.9094\n",
      "Epoch 22/100\n",
      "1190/1190 - 0s - loss: 0.2769 - accuracy: 0.9059 - val_loss: 0.2565 - val_accuracy: 0.9262\n",
      "Epoch 23/100\n",
      "1190/1190 - 0s - loss: 0.2975 - accuracy: 0.9008 - val_loss: 0.2560 - val_accuracy: 0.9195\n",
      "Epoch 24/100\n",
      "1190/1190 - 0s - loss: 0.3007 - accuracy: 0.8941 - val_loss: 0.2563 - val_accuracy: 0.9228\n",
      "Epoch 25/100\n",
      "1190/1190 - 0s - loss: 0.3072 - accuracy: 0.8958 - val_loss: 0.2572 - val_accuracy: 0.9195\n",
      "Epoch 26/100\n",
      "1190/1190 - 0s - loss: 0.2804 - accuracy: 0.9067 - val_loss: 0.2499 - val_accuracy: 0.9161\n"
     ]
    },
    {
     "data": {
      "text/plain": [
       "<tensorflow.python.keras.callbacks.History at 0x2270029a400>"
      ]
     },
     "execution_count": 369,
     "metadata": {},
     "output_type": "execute_result"
    }
   ],
   "source": [
    "model.fit(X_train, Y_train, epochs=100, batch_size=40, validation_data=(X_Dev, Y_Dev), verbose=2, callbacks=[early_stopping])"
   ]
  },
  {
   "cell_type": "code",
   "execution_count": 370,
   "metadata": {},
   "outputs": [
    {
     "name": "stdout",
     "output_type": "stream",
     "text": [
      "638/638 [==============================] - 0s 64us/sample - loss: 0.3271 - accuracy: 0.8903\n",
      "[0.3270895482043861, 0.89028215]\n"
     ]
    }
   ],
   "source": [
    "score = model.evaluate(X_test, Y_test)\n",
    "print(score)"
   ]
  },
  {
   "cell_type": "code",
   "execution_count": 229,
   "metadata": {},
   "outputs": [],
   "source": [
    "model = keras.Sequential()\n",
    "model.add(Dense(units=64, input_dim=X_train.shape[1], activation='tanh', kernel_initializer='zeros'))\n",
    "model.add(Dense(units=3, activation='softmax'))"
   ]
  },
  {
   "cell_type": "code",
   "execution_count": 230,
   "metadata": {},
   "outputs": [],
   "source": [
    "model.compile(loss='categorical_crossentropy', \\\n",
    "              optimizer='sgd', metrics=['accuracy'])"
   ]
  },
  {
   "cell_type": "code",
   "execution_count": 231,
   "metadata": {},
   "outputs": [
    {
     "data": {
      "text/plain": [
       "<tensorflow.python.keras.callbacks.History at 0x227007cb470>"
      ]
     },
     "execution_count": 231,
     "metadata": {},
     "output_type": "execute_result"
    }
   ],
   "source": [
    "model.fit(X_train, Y_train, epochs=10, batch_size=1, verbose=0)"
   ]
  },
  {
   "cell_type": "code",
   "execution_count": 52,
   "metadata": {},
   "outputs": [
    {
     "name": "stdout",
     "output_type": "stream",
     "text": [
      "638/638 [==============================] - 0s 164us/sample - loss: 0.3257 - accuracy: 0.8668\n",
      "[0.3256858137894574, 0.86677116]\n"
     ]
    }
   ],
   "source": [
    "score = model.evaluate(X_test, Y_test)\n",
    "print(score)"
   ]
  },
  {
   "cell_type": "code",
   "execution_count": null,
   "metadata": {},
   "outputs": [],
   "source": []
  }
 ],
 "metadata": {
  "kernelspec": {
   "display_name": "Python 3",
   "language": "python",
   "name": "python3"
  },
  "language_info": {
   "codemirror_mode": {
    "name": "ipython",
    "version": 3
   },
   "file_extension": ".py",
   "mimetype": "text/x-python",
   "name": "python",
   "nbconvert_exporter": "python",
   "pygments_lexer": "ipython3",
   "version": "3.6.12"
  }
 },
 "nbformat": 4,
 "nbformat_minor": 4
}
